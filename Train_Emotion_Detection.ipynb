{
 "cells": [
  {
   "cell_type": "code",
   "execution_count": 4,
   "id": "d5dfbcb0",
   "metadata": {},
   "outputs": [],
   "source": [
    "# import required packages\n",
    "import cv2\n",
    "from keras.models import Sequential\n",
    "from keras.layers import Conv2D, MaxPooling2D, Dense, Dropout, Flatten\n",
    "from keras.optimizers import Adam\n",
    "from keras.preprocessing.image import ImageDataGenerator"
   ]
  },
  {
   "cell_type": "code",
   "execution_count": 5,
   "id": "a2ef732b",
   "metadata": {},
   "outputs": [],
   "source": [
    "# Initialize image data generator with rescaling\n",
    "train_data_gen = ImageDataGenerator(rescale=1./255)\n",
    "validation_data_gen = ImageDataGenerator(rescale=1./255)"
   ]
  },
  {
   "cell_type": "code",
   "execution_count": 6,
   "id": "d1ffbb32",
   "metadata": {},
   "outputs": [
    {
     "name": "stdout",
     "output_type": "stream",
     "text": [
      "Found 28709 images belonging to 7 classes.\n"
     ]
    }
   ],
   "source": [
    "# Preprocess all test images\n",
    "train_generator = train_data_gen.flow_from_directory(\n",
    "        'data/train',\n",
    "        target_size=(48, 48),\n",
    "        batch_size=64,\n",
    "        color_mode=\"grayscale\",\n",
    "        class_mode='categorical')"
   ]
  },
  {
   "cell_type": "code",
   "execution_count": 7,
   "id": "5d9e405c",
   "metadata": {},
   "outputs": [
    {
     "name": "stdout",
     "output_type": "stream",
     "text": [
      "Found 7178 images belonging to 7 classes.\n"
     ]
    }
   ],
   "source": [
    "# Preprocess all train images\n",
    "validation_generator = validation_data_gen.flow_from_directory(\n",
    "        'data/test',\n",
    "        target_size=(48, 48),\n",
    "        batch_size=64,\n",
    "        color_mode=\"grayscale\",\n",
    "        class_mode='categorical')"
   ]
  },
  {
   "cell_type": "code",
   "execution_count": 8,
   "id": "9453b4de",
   "metadata": {},
   "outputs": [],
   "source": [
    "# create model structure\n",
    "emotion_model = Sequential()\n",
    "\n",
    "emotion_model.add(Conv2D(32, kernel_size=(3, 3), activation='relu', input_shape=(48, 48, 1)))\n",
    "emotion_model.add(Conv2D(64, kernel_size=(3, 3), activation='relu'))\n",
    "emotion_model.add(MaxPooling2D(pool_size=(2, 2)))\n",
    "emotion_model.add(Dropout(0.25))\n",
    "  \n",
    "emotion_model.add(Conv2D(128, kernel_size=(3, 3), activation='relu'))\n",
    "emotion_model.add(MaxPooling2D(pool_size=(2, 2)))\n",
    "emotion_model.add(Conv2D(128, kernel_size=(3, 3), activation='relu'))\n",
    "emotion_model.add(MaxPooling2D(pool_size=(2, 2)))\n",
    "emotion_model.add(Dropout(0.25))\n",
    " \n",
    "emotion_model.add(Flatten())\n",
    "\n",
    "#fully connected neural networks \n",
    "emotion_model.add(Dense(1024, activation='relu'))\n",
    "emotion_model.add(Dropout(0.5))\n",
    "emotion_model.add(Dense(7, activation='softmax'))\n",
    "\n",
    "cv2.ocl.setUseOpenCL(False)\n",
    "\n",
    "#Compliling the model  \n",
    "emotion_model.compile(loss='categorical_crossentropy', optimizer=Adam(learning_rate=0.0001, decay=1e-6), metrics=['accuracy'])"
   ]
  },
  {
   "cell_type": "code",
   "execution_count": 9,
   "id": "c2292fc5",
   "metadata": {},
   "outputs": [
    {
     "name": "stdout",
     "output_type": "stream",
     "text": [
      "Model: \"sequential\"\n",
      "_________________________________________________________________\n",
      " Layer (type)                Output Shape              Param #   \n",
      "=================================================================\n",
      " conv2d (Conv2D)             (None, 46, 46, 32)        320       \n",
      "                                                                 \n",
      " conv2d_1 (Conv2D)           (None, 44, 44, 64)        18496     \n",
      "                                                                 \n",
      " max_pooling2d (MaxPooling2D  (None, 22, 22, 64)       0         \n",
      " )                                                               \n",
      "                                                                 \n",
      " dropout (Dropout)           (None, 22, 22, 64)        0         \n",
      "                                                                 \n",
      " conv2d_2 (Conv2D)           (None, 20, 20, 128)       73856     \n",
      "                                                                 \n",
      " max_pooling2d_1 (MaxPooling  (None, 10, 10, 128)      0         \n",
      " 2D)                                                             \n",
      "                                                                 \n",
      " conv2d_3 (Conv2D)           (None, 8, 8, 128)         147584    \n",
      "                                                                 \n",
      " max_pooling2d_2 (MaxPooling  (None, 4, 4, 128)        0         \n",
      " 2D)                                                             \n",
      "                                                                 \n",
      " dropout_1 (Dropout)         (None, 4, 4, 128)         0         \n",
      "                                                                 \n",
      " flatten (Flatten)           (None, 2048)              0         \n",
      "                                                                 \n",
      " dense (Dense)               (None, 1024)              2098176   \n",
      "                                                                 \n",
      " dropout_2 (Dropout)         (None, 1024)              0         \n",
      "                                                                 \n",
      " dense_1 (Dense)             (None, 7)                 7175      \n",
      "                                                                 \n",
      "=================================================================\n",
      "Total params: 2,345,607\n",
      "Trainable params: 2,345,607\n",
      "Non-trainable params: 0\n",
      "_________________________________________________________________\n"
     ]
    }
   ],
   "source": [
    "# display a summary of the architecture and parameters of a model\n",
    "emotion_model.summary()"
   ]
  },
  {
   "cell_type": "code",
   "execution_count": 6,
   "id": "ba1a434c",
   "metadata": {},
   "outputs": [
    {
     "name": "stdout",
     "output_type": "stream",
     "text": [
      "Epoch 1/50\n",
      "448/448 [==============================] - 262s 582ms/step - loss: 1.8066 - accuracy: 0.2543 - val_loss: 1.7246 - val_accuracy: 0.3401\n",
      "Epoch 2/50\n",
      "448/448 [==============================] - 174s 388ms/step - loss: 1.6417 - accuracy: 0.3612 - val_loss: 1.5502 - val_accuracy: 0.4141\n",
      "Epoch 3/50\n",
      "448/448 [==============================] - 179s 400ms/step - loss: 1.5306 - accuracy: 0.4135 - val_loss: 1.4543 - val_accuracy: 0.4464\n",
      "Epoch 4/50\n",
      "448/448 [==============================] - 183s 409ms/step - loss: 1.4543 - accuracy: 0.4427 - val_loss: 1.3921 - val_accuracy: 0.4749\n",
      "Epoch 5/50\n",
      "448/448 [==============================] - 953s 2s/step - loss: 1.3924 - accuracy: 0.4710 - val_loss: 1.3479 - val_accuracy: 0.4859\n",
      "Epoch 6/50\n",
      "448/448 [==============================] - 219s 488ms/step - loss: 1.3418 - accuracy: 0.4930 - val_loss: 1.3013 - val_accuracy: 0.5033\n",
      "Epoch 7/50\n",
      "448/448 [==============================] - 212s 473ms/step - loss: 1.2980 - accuracy: 0.5063 - val_loss: 1.2723 - val_accuracy: 0.5155\n",
      "Epoch 8/50\n",
      "448/448 [==============================] - 210s 468ms/step - loss: 1.2621 - accuracy: 0.5207 - val_loss: 1.2378 - val_accuracy: 0.5271\n",
      "Epoch 9/50\n",
      "448/448 [==============================] - 264s 590ms/step - loss: 1.2266 - accuracy: 0.5353 - val_loss: 1.2173 - val_accuracy: 0.5360\n",
      "Epoch 10/50\n",
      "448/448 [==============================] - 224s 499ms/step - loss: 1.1963 - accuracy: 0.5489 - val_loss: 1.2025 - val_accuracy: 0.5407\n",
      "Epoch 11/50\n",
      "448/448 [==============================] - 216s 481ms/step - loss: 1.1687 - accuracy: 0.5616 - val_loss: 1.1811 - val_accuracy: 0.5428\n",
      "Epoch 12/50\n",
      "448/448 [==============================] - 207s 461ms/step - loss: 1.1390 - accuracy: 0.5727 - val_loss: 1.1717 - val_accuracy: 0.5532\n",
      "Epoch 13/50\n",
      "448/448 [==============================] - 210s 469ms/step - loss: 1.1196 - accuracy: 0.5828 - val_loss: 1.1511 - val_accuracy: 0.5579\n",
      "Epoch 14/50\n",
      "448/448 [==============================] - 211s 471ms/step - loss: 1.0926 - accuracy: 0.5948 - val_loss: 1.1387 - val_accuracy: 0.5632\n",
      "Epoch 15/50\n",
      "448/448 [==============================] - 209s 467ms/step - loss: 1.0730 - accuracy: 0.5987 - val_loss: 1.1209 - val_accuracy: 0.5753\n",
      "Epoch 16/50\n",
      "448/448 [==============================] - 214s 477ms/step - loss: 1.0445 - accuracy: 0.6111 - val_loss: 1.1163 - val_accuracy: 0.5759\n",
      "Epoch 17/50\n",
      "448/448 [==============================] - 214s 478ms/step - loss: 1.0226 - accuracy: 0.6204 - val_loss: 1.1102 - val_accuracy: 0.5798\n",
      "Epoch 18/50\n",
      "448/448 [==============================] - 214s 478ms/step - loss: 0.9981 - accuracy: 0.6294 - val_loss: 1.0989 - val_accuracy: 0.5831\n",
      "Epoch 19/50\n",
      "448/448 [==============================] - 210s 470ms/step - loss: 0.9779 - accuracy: 0.6395 - val_loss: 1.0926 - val_accuracy: 0.5871\n",
      "Epoch 20/50\n",
      "448/448 [==============================] - 209s 466ms/step - loss: 0.9570 - accuracy: 0.6470 - val_loss: 1.0838 - val_accuracy: 0.5926\n",
      "Epoch 21/50\n",
      "448/448 [==============================] - 224s 501ms/step - loss: 0.9333 - accuracy: 0.6566 - val_loss: 1.0902 - val_accuracy: 0.5933\n",
      "Epoch 22/50\n",
      "448/448 [==============================] - 211s 470ms/step - loss: 0.9084 - accuracy: 0.6628 - val_loss: 1.0838 - val_accuracy: 0.5907\n",
      "Epoch 23/50\n",
      "448/448 [==============================] - 216s 483ms/step - loss: 0.8892 - accuracy: 0.6725 - val_loss: 1.0821 - val_accuracy: 0.5957\n",
      "Epoch 24/50\n",
      "448/448 [==============================] - 224s 500ms/step - loss: 0.8648 - accuracy: 0.6826 - val_loss: 1.0729 - val_accuracy: 0.6035\n",
      "Epoch 25/50\n",
      "448/448 [==============================] - 211s 470ms/step - loss: 0.8418 - accuracy: 0.6885 - val_loss: 1.0736 - val_accuracy: 0.6006\n",
      "Epoch 26/50\n",
      "448/448 [==============================] - 190s 424ms/step - loss: 0.8204 - accuracy: 0.6994 - val_loss: 1.0784 - val_accuracy: 0.5991\n",
      "Epoch 27/50\n",
      "448/448 [==============================] - 176s 394ms/step - loss: 0.7976 - accuracy: 0.7082 - val_loss: 1.0791 - val_accuracy: 0.6085\n",
      "Epoch 28/50\n",
      "448/448 [==============================] - 175s 391ms/step - loss: 0.7802 - accuracy: 0.7153 - val_loss: 1.0988 - val_accuracy: 0.6073\n",
      "Epoch 29/50\n",
      "448/448 [==============================] - 174s 389ms/step - loss: 0.7519 - accuracy: 0.7226 - val_loss: 1.0645 - val_accuracy: 0.6076\n",
      "Epoch 30/50\n",
      "448/448 [==============================] - 173s 387ms/step - loss: 0.7376 - accuracy: 0.7306 - val_loss: 1.0662 - val_accuracy: 0.6091\n",
      "Epoch 31/50\n",
      "448/448 [==============================] - 174s 389ms/step - loss: 0.7147 - accuracy: 0.7369 - val_loss: 1.0760 - val_accuracy: 0.6064\n",
      "Epoch 32/50\n",
      "448/448 [==============================] - 174s 388ms/step - loss: 0.6939 - accuracy: 0.7471 - val_loss: 1.0810 - val_accuracy: 0.6173\n",
      "Epoch 33/50\n",
      "448/448 [==============================] - 173s 385ms/step - loss: 0.6713 - accuracy: 0.7564 - val_loss: 1.0875 - val_accuracy: 0.6112\n",
      "Epoch 34/50\n",
      "448/448 [==============================] - 174s 389ms/step - loss: 0.6526 - accuracy: 0.7631 - val_loss: 1.0937 - val_accuracy: 0.6099\n",
      "Epoch 35/50\n",
      "448/448 [==============================] - 174s 388ms/step - loss: 0.6299 - accuracy: 0.7705 - val_loss: 1.0804 - val_accuracy: 0.6136\n",
      "Epoch 36/50\n",
      "448/448 [==============================] - 176s 392ms/step - loss: 0.6058 - accuracy: 0.7785 - val_loss: 1.0992 - val_accuracy: 0.6138\n",
      "Epoch 37/50\n",
      "448/448 [==============================] - 174s 389ms/step - loss: 0.5923 - accuracy: 0.7852 - val_loss: 1.0976 - val_accuracy: 0.6164\n",
      "Epoch 38/50\n",
      "448/448 [==============================] - 200s 446ms/step - loss: 0.5743 - accuracy: 0.7918 - val_loss: 1.1042 - val_accuracy: 0.6194\n",
      "Epoch 39/50\n",
      "448/448 [==============================] - 200s 446ms/step - loss: 0.5483 - accuracy: 0.8011 - val_loss: 1.1074 - val_accuracy: 0.6173\n",
      "Epoch 40/50\n",
      "448/448 [==============================] - 190s 424ms/step - loss: 0.5335 - accuracy: 0.8081 - val_loss: 1.1179 - val_accuracy: 0.6221\n",
      "Epoch 41/50\n",
      "448/448 [==============================] - 189s 421ms/step - loss: 0.5148 - accuracy: 0.8120 - val_loss: 1.1266 - val_accuracy: 0.6168\n",
      "Epoch 42/50\n",
      "448/448 [==============================] - 192s 428ms/step - loss: 0.5054 - accuracy: 0.8163 - val_loss: 1.1311 - val_accuracy: 0.6193\n",
      "Epoch 43/50\n",
      "448/448 [==============================] - 197s 439ms/step - loss: 0.4859 - accuracy: 0.8247 - val_loss: 1.1295 - val_accuracy: 0.6218\n",
      "Epoch 44/50\n",
      "448/448 [==============================] - 201s 449ms/step - loss: 0.4677 - accuracy: 0.8313 - val_loss: 1.1452 - val_accuracy: 0.6198\n",
      "Epoch 45/50\n",
      "448/448 [==============================] - 184s 411ms/step - loss: 0.4528 - accuracy: 0.8376 - val_loss: 1.1625 - val_accuracy: 0.6197\n",
      "Epoch 46/50\n",
      "448/448 [==============================] - 181s 404ms/step - loss: 0.4442 - accuracy: 0.8406 - val_loss: 1.1618 - val_accuracy: 0.6183\n",
      "Epoch 47/50\n",
      "448/448 [==============================] - 188s 421ms/step - loss: 0.4245 - accuracy: 0.8474 - val_loss: 1.1829 - val_accuracy: 0.6207\n",
      "Epoch 48/50\n",
      "448/448 [==============================] - 201s 448ms/step - loss: 0.4138 - accuracy: 0.8517 - val_loss: 1.1796 - val_accuracy: 0.6211\n",
      "Epoch 49/50\n",
      "448/448 [==============================] - 201s 448ms/step - loss: 0.4060 - accuracy: 0.8533 - val_loss: 1.1775 - val_accuracy: 0.6219\n",
      "Epoch 50/50\n",
      "448/448 [==============================] - 225s 502ms/step - loss: 0.3893 - accuracy: 0.8608 - val_loss: 1.2111 - val_accuracy: 0.6183\n"
     ]
    }
   ],
   "source": [
    "# Train the neural network/model\n",
    "emotion_model_info = emotion_model.fit(\n",
    "        train_generator,\n",
    "        steps_per_epoch=28709 // 64,\n",
    "        epochs=50,\n",
    "        validation_data=validation_generator,\n",
    "        validation_steps=7178 // 64)"
   ]
  },
  {
   "cell_type": "code",
   "execution_count": 14,
   "id": "f0cf6b5e",
   "metadata": {},
   "outputs": [],
   "source": [
    "# save model structure in json file\n",
    "# model_json = emotion_model.to_json()\n",
    "# with open(\"emotion_model.json\", \"w\") as json_file:\n",
    "#     json_file.write(model_json)\n",
    "\n",
    "# # save trained model weight in .h5 file\n",
    "# emotion_model.save_weights('emotion_model.h5')"
   ]
  },
  {
   "cell_type": "code",
   "execution_count": 16,
   "id": "d53c53b7",
   "metadata": {},
   "outputs": [],
   "source": [
    "import os\n",
    "\n",
    "# Define the file path or directory path\n",
    "path_to = \"E:\\\\CS\\\\Emotion_Detection\\\\model\"\n",
    "\n",
    "# Create the directory if it doesn't exist\n",
    "os.makedirs(path_to, exist_ok=True)\n",
    "\n",
    "# Construct the complete file path by joining path_to and fer_json\n",
    "file_path = os.path.join(path_to, \"emotion_model.json\")\n",
    "\n",
    "# Write to the JSON file\n",
    "with open(file_path, \"w\") as json_file:\n",
    "    json_file.write(model_json)\n",
    "\n",
    "# Store the model weights to fer.h5\n",
    "emotion_model.save_weights(os.path.join(path_to, \"emotion_model.h5\"))"
   ]
  },
  {
   "cell_type": "code",
   "execution_count": null,
   "id": "fe58ec69",
   "metadata": {},
   "outputs": [],
   "source": []
  }
 ],
 "metadata": {
  "kernelspec": {
   "display_name": "Python 3 (ipykernel)",
   "language": "python",
   "name": "python3"
  },
  "language_info": {
   "codemirror_mode": {
    "name": "ipython",
    "version": 3
   },
   "file_extension": ".py",
   "mimetype": "text/x-python",
   "name": "python",
   "nbconvert_exporter": "python",
   "pygments_lexer": "ipython3",
   "version": "3.10.9"
  }
 },
 "nbformat": 4,
 "nbformat_minor": 5
}
