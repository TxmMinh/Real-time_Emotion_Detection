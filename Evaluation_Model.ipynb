{
 "cells": [
  {
   "cell_type": "code",
   "execution_count": 2,
   "id": "35a3f6d1",
   "metadata": {},
   "outputs": [],
   "source": [
    "# import required packages\n",
    "import cv2\n",
    "from keras.models import Sequential\n",
    "from keras.layers import Conv2D, MaxPooling2D, Dense, Dropout, Flatten\n",
    "from keras.optimizers import Adam\n",
    "from keras.preprocessing.image import ImageDataGenerator\n",
    "import numpy as np\n",
    "from keras.models import model_from_json\n",
    "import keras.utils as image \n",
    "import pandas as pd  \n",
    "import seaborn as sns\n",
    "import matplotlib.pyplot as plt\n",
    "import tensorflow as tf"
   ]
  },
  {
   "cell_type": "code",
   "execution_count": 3,
   "id": "3597af1f",
   "metadata": {},
   "outputs": [],
   "source": [
    "# Initialize image data generator with rescaling\n",
    "train_data_gen = ImageDataGenerator(rescale=1./255)\n",
    "validation_data_gen = ImageDataGenerator(rescale=1./255)"
   ]
  },
  {
   "cell_type": "code",
   "execution_count": 4,
   "id": "d1606385",
   "metadata": {},
   "outputs": [
    {
     "name": "stdout",
     "output_type": "stream",
     "text": [
      "Found 28709 images belonging to 7 classes.\n"
     ]
    }
   ],
   "source": [
    "# Preprocess all test images\n",
    "train_generator = train_data_gen.flow_from_directory(\n",
    "        'data/train',\n",
    "        target_size=(48, 48),\n",
    "        batch_size=64,\n",
    "        color_mode=\"grayscale\",\n",
    "        class_mode='categorical')"
   ]
  },
  {
   "cell_type": "code",
   "execution_count": 5,
   "id": "ca56ab65",
   "metadata": {},
   "outputs": [
    {
     "name": "stdout",
     "output_type": "stream",
     "text": [
      "Found 7178 images belonging to 7 classes.\n"
     ]
    }
   ],
   "source": [
    "# Preprocess all train images\n",
    "validation_generator = validation_data_gen.flow_from_directory(\n",
    "        'data/test',\n",
    "        target_size=(48, 48),\n",
    "        batch_size=64,\n",
    "        color_mode=\"grayscale\",\n",
    "        class_mode='categorical')"
   ]
  },
  {
   "cell_type": "code",
   "execution_count": 6,
   "id": "fdd29725",
   "metadata": {},
   "outputs": [
    {
     "name": "stdout",
     "output_type": "stream",
     "text": [
      "Model: \"sequential\"\n",
      "_________________________________________________________________\n",
      " Layer (type)                Output Shape              Param #   \n",
      "=================================================================\n",
      " conv2d (Conv2D)             (None, 46, 46, 32)        320       \n",
      "                                                                 \n",
      " conv2d_1 (Conv2D)           (None, 44, 44, 64)        18496     \n",
      "                                                                 \n",
      " max_pooling2d (MaxPooling2D  (None, 22, 22, 64)       0         \n",
      " )                                                               \n",
      "                                                                 \n",
      " dropout (Dropout)           (None, 22, 22, 64)        0         \n",
      "                                                                 \n",
      " conv2d_2 (Conv2D)           (None, 20, 20, 128)       73856     \n",
      "                                                                 \n",
      " max_pooling2d_1 (MaxPooling  (None, 10, 10, 128)      0         \n",
      " 2D)                                                             \n",
      "                                                                 \n",
      " conv2d_3 (Conv2D)           (None, 8, 8, 128)         147584    \n",
      "                                                                 \n",
      " max_pooling2d_2 (MaxPooling  (None, 4, 4, 128)        0         \n",
      " 2D)                                                             \n",
      "                                                                 \n",
      " dropout_1 (Dropout)         (None, 4, 4, 128)         0         \n",
      "                                                                 \n",
      " flatten (Flatten)           (None, 2048)              0         \n",
      "                                                                 \n",
      " dense (Dense)               (None, 1024)              2098176   \n",
      "                                                                 \n",
      " dropout_2 (Dropout)         (None, 1024)              0         \n",
      "                                                                 \n",
      " dense_1 (Dense)             (None, 7)                 7175      \n",
      "                                                                 \n",
      "=================================================================\n",
      "Total params: 2,345,607\n",
      "Trainable params: 2,345,607\n",
      "Non-trainable params: 0\n",
      "_________________________________________________________________\n"
     ]
    }
   ],
   "source": [
    "# Load emotion recognition model\n",
    "from tensorflow.keras.optimizers import Adam, Adamax\n",
    "\n",
    "model = model_from_json(open(\"E:\\\\CS\\\\Emotion_Detection\\\\model\\\\emotion_model.json\", \"r\").read())\n",
    "checkpoint_path = model.load_weights('E:\\\\CS\\\\Emotion_Detection\\\\model\\\\emotion_model.h5')\n",
    "learning_rate=.001 # start with this learning rate\n",
    "model.compile(\n",
    "                  Adamax(learning_rate=learning_rate), \n",
    "                  loss='categorical_crossentropy', \n",
    "                  metrics=['accuracy']\n",
    "                  )\n",
    "\n",
    "# View the model summary\n",
    "model.summary()\n"
   ]
  },
  {
   "cell_type": "markdown",
   "id": "e31a54a0",
   "metadata": {},
   "source": [
    "# Data preparation"
   ]
  },
  {
   "cell_type": "code",
   "execution_count": 7,
   "id": "9241165c",
   "metadata": {},
   "outputs": [],
   "source": [
    "# Read all files from folders\n",
    "import os, sys, time, warnings, sklearn\n",
    "ROOT='E:\\\\CS\\\\Emotion_Detection\\\\data'\n",
    "# Specify important directories\n",
    "TRAIN_PATH=ROOT+'\\\\train'\n",
    "TEST_PATH=ROOT+'\\\\test'"
   ]
  },
  {
   "cell_type": "markdown",
   "id": "9d467b07",
   "metadata": {},
   "source": [
    "# Model Evaluation"
   ]
  },
  {
   "cell_type": "code",
   "execution_count": 8,
   "id": "3f6b280a",
   "metadata": {},
   "outputs": [
    {
     "name": "stdout",
     "output_type": "stream",
     "text": [
      "449/449 - 411s - loss: 0.1241 - accuracy: 0.9842 - 411s/epoch - 914ms/step\n"
     ]
    }
   ],
   "source": [
    "# Evaluate the model\n",
    "loss, acc = model.evaluate(train_generator, verbose=2)"
   ]
  },
  {
   "cell_type": "code",
   "execution_count": 9,
   "id": "fc997caf",
   "metadata": {},
   "outputs": [
    {
     "name": "stdout",
     "output_type": "stream",
     "text": [
      "113/113 - 95s - loss: 1.2282 - accuracy: 0.6229 - 95s/epoch - 837ms/step\n"
     ]
    }
   ],
   "source": [
    "# Evaluate the model\n",
    "loss, acc = model.evaluate(validation_generator, verbose=2)"
   ]
  },
  {
   "cell_type": "markdown",
   "id": "ae5db8ed",
   "metadata": {},
   "source": [
    "# Prediction on Test Images "
   ]
  },
  {
   "cell_type": "code",
   "execution_count": 15,
   "id": "eb9cabdf",
   "metadata": {},
   "outputs": [
    {
     "name": "stdout",
     "output_type": "stream",
     "text": [
      "113/113 [==============================] - 10s 87ms/step\n"
     ]
    },
    {
     "data": {
      "image/png": "[encoded data removed]",
      "text/plain": [
       "<Figure size 800x600 with 2 Axes>"
      ]
     },
     "metadata": {},
     "output_type": "display_data"
    }
   ],
   "source": [
    "import cv2\n",
    "import numpy as np\n",
    "import matplotlib.pyplot as plt\n",
    "import seaborn as sns\n",
    "from sklearn.metrics import confusion_matrix, classification_report\n",
    "\n",
    "def show_confusion_matrix(y_true, y_pred):\n",
    "    cm = confusion_matrix(y_true, y_pred)\n",
    "    labels = ['angry', 'disgust', 'fear', 'happy', 'sad', 'surprise', 'neutral']\n",
    "\n",
    "    plt.figure(figsize=(8, 6))\n",
    "    sns.heatmap(cm, annot=True, fmt=\"d\", cmap=\"Blues\", xticklabels=labels, yticklabels=labels)\n",
    "    plt.title(\"Confusion Matrix\")\n",
    "    plt.xlabel(\"Predicted\")\n",
    "    plt.ylabel(\"True\")\n",
    "    plt.show()\n",
    "\n",
    "# Dự đoán trên tập validation\n",
    "y_pred = model.predict(validation_generator)\n",
    "y_pred_classes = np.argmax(y_pred, axis=1)\n",
    "y_true = validation_generator.classes\n",
    "\n",
    "# Hiển thị ma trận bối rối dưới dạng hình ảnh\n",
    "show_confusion_matrix(y_true, y_pred_classes)\n"
   ]
  },
  {
   "cell_type": "markdown",
   "id": "a00487ad",
   "metadata": {},
   "source": [
    "# Print Predicted Images: Unshuffled Test Set"
   ]
  },
  {
   "cell_type": "code",
   "execution_count": null,
   "id": "8172b288",
   "metadata": {},
   "outputs": [],
   "source": [
    "import matplotlib.pyplot as plt\n",
    "\n",
    "test_images, test_labels = next(validation_generator)\n",
    "preds = model.predict(test_images)\n",
    "# One hot conversion\n",
    "label_prep = np.argmax(preds, axis = 1)\n",
    "label_test = np.argmax(test_labels, axis = 1)\n",
    "# Reshape\n",
    "label_prep = label_prep.reshape((-1, 1))\n",
    "label_test = np.reshape(label_test, (len(label_test), 1))\n",
    "\n",
    "print('correct prediction:', np.sum((label_test == label_prep)*1)/test_batch_size,'\\n')\n",
    "\n",
    "\n",
    "def compare(label_prep, gen=train_generator):\n",
    "    class_dictionary = gen.class_indices\n",
    "    for key, value in class_dictionary.items():\n",
    "        if value == label_prep:\n",
    "             return key\n",
    "\n",
    "def dif(label_test, label_prep, gen=train_generator):    \n",
    "    class_dictionary = gen.class_indices\n",
    "    test = ''\n",
    "    id = ''\n",
    "    for key, value in class_dictionary.items():\n",
    "        if value == label_test:\n",
    "            test = key\n",
    "        if value == label_prep:\n",
    "            id = key\n",
    "    return test, id\n",
    "\n",
    "#Code by Hitesh Kumar https://www.kaggle.com/hitzz97/emotion-detection\n",
    "\n",
    "fig = plt.figure(figsize=((30, 40)))\n",
    "\n",
    "# k = 0\n",
    "for j in range(min(len(label_prep), 35)):\n",
    "    ax = plt.subplot(7, 5, j+1)\n",
    "    px = test_images[j]/255\n",
    "#   k += 1\n",
    "    ax.imshow(px)\n",
    "    ax.set_xticks([])\n",
    "    ax.set_yticks([])\n",
    "    \n",
    "    if label_test[j] == label_prep[j]:\n",
    "        for axis in ['top','bottom','left','right']:\n",
    "            ax.spines[axis].set_linewidth(15)\n",
    "            ax.spines[axis].set_color('green')\n",
    "        ax.set_title(\n",
    "                    compare(label_prep[j]),\n",
    "                    color='green', \n",
    "                    fontsize=35\n",
    "                     )\n",
    "\n",
    "    else:\n",
    "        for axis in ['top','bottom','left','right']:\n",
    "            ax.spines[axis].set_linewidth(15)\n",
    "            ax.spines[axis].set_color('red')\n",
    "        ax.set_title(\n",
    "                    'Pred:'+dif(label_test[j], label_prep[j])[1]+\" | Act:\"+ dif(label_test[j], label_prep[j])[0],\n",
    "                    color='red', \n",
    "                    fontsize=35\n",
    "                    )\n",
    "    plt.tight_layout()"
   ]
  },
  {
   "cell_type": "code",
   "execution_count": null,
   "id": "174a472f",
   "metadata": {},
   "outputs": [],
   "source": []
  }
 ],
 "metadata": {
  "kernelspec": {
   "display_name": "Python 3 (ipykernel)",
   "language": "python",
   "name": "python3"
  },
  "language_info": {
   "codemirror_mode": {
    "name": "ipython",
    "version": 3
   },
   "file_extension": ".py",
   "mimetype": "text/x-python",
   "name": "python",
   "nbconvert_exporter": "python",
   "pygments_lexer": "ipython3",
   "version": "3.10.9"
  }
 },
 "nbformat": 4,
 "nbformat_minor": 5
}
